{
 "cells": [
  {
   "cell_type": "code",
   "execution_count": 2,
   "metadata": {},
   "outputs": [],
   "source": [
    "import librosa\n",
    "import librosa.display\n",
    "import spotipy\n",
    "import soundfile as sf\n",
    "import matplotlib.pyplot as plt\n",
    "import numpy as np \n",
    "import spotipy.util as util"
   ]
  },
  {
   "cell_type": "code",
   "execution_count": 3,
   "metadata": {},
   "outputs": [
    {
     "name": "stderr",
     "output_type": "stream",
     "text": [
      "C:\\Users\\M M Sakib Ullah\\AppData\\Local\\Temp\\ipykernel_2688\\1658509904.py:4: FutureWarning: Pass orig_sr=22050, target_sr=22050 as keyword args. From version 0.10 passing these as positional arguments will result in an error\n",
      "  DATA_16k = librosa.resample(DATA,SR,22050)\n"
     ]
    }
   ],
   "source": [
    "audio_file = 'piya.mp3'\n",
    "destFileName=\"16bitMono16K.wav\"\n",
    "DATA, SR = sf.read(audio_file, channels=2, samplerate=22050,dtype=np.float32, subtype='PCM_32',format=\"RAW\",endian='LITTLE')\n",
    "DATA_16k = librosa.resample(DATA,SR,22050)\n",
    "DATA_16k_mono=librosa.to_mono(DATA_16k)\n",
    "sf.write(destFileName, DATA_16k_mono, 22050, subtype='PCM_16')\n"
   ]
  },
  {
   "cell_type": "code",
   "execution_count": 4,
   "metadata": {},
   "outputs": [
    {
     "name": "stderr",
     "output_type": "stream",
     "text": [
      "C:\\Users\\M M Sakib Ullah\\AppData\\Local\\Temp\\ipykernel_2688\\2491168831.py:2: FutureWarning: Pass y=[[3.2814536e-02 0.0000000e+00]\n",
      " [6.9006348e-01 1.0531396e-05]\n",
      " [2.1457672e-06 8.3109820e-01]\n",
      " ...\n",
      " [6.6666669e-01 6.6666669e-01]\n",
      " [6.6666669e-01 6.6666669e-01]\n",
      " [6.6666669e-01 6.6666669e-01]], sr=22050 as keyword args. From version 0.10 passing these as positional arguments will result in an error\n",
      "  mfcc = librosa.feature.mfcc(DATA, SR)\n",
      "d:\\Softwares\\Conda3\\envs\\dsenv\\lib\\site-packages\\librosa\\util\\decorators.py:88: UserWarning: n_fft=2048 is too small for input signal of length=2\n",
      "  return f(*args, **kwargs)\n",
      "d:\\Softwares\\Conda3\\envs\\dsenv\\lib\\site-packages\\librosa\\core\\spectrum.py:247: RuntimeWarning: overflow encountered in long_scalars\n",
      "  np.prod(stft_matrix.shape[:-1]) * stft_matrix.itemsize\n"
     ]
    }
   ],
   "source": [
    "#Extract the mfcc features using librosa\n",
    "mfcc = librosa.feature.mfcc(DATA, SR)\n",
    "\n",
    "#Connect to Spotify using spotipy\n",
    "sp = spotipy.Spotify()"
   ]
  },
  {
   "cell_type": "code",
   "execution_count": 5,
   "metadata": {},
   "outputs": [],
   "source": [
    "\n",
    "client_id = \"7a1b485311984781906ea2ae5c3ef591\"\n",
    "client_secret = \"101046b7a3ca4579aa5acfdd026e3385\"\n",
    "#Set up Spotify API client using Spotipy\n",
    "username = \"31hm2jsarxljr3cbzrxrcbi25t2e\"\n",
    "scope = \"playlist-modify-public playlist-modify-private playlist-read-private playlist-read-collaborative\"\n",
    "redirect_uri = \"http://localhost:8080\"\n"
   ]
  },
  {
   "cell_type": "code",
   "execution_count": 6,
   "metadata": {},
   "outputs": [],
   "source": [
    "#Get Spotify API token\n",
    "token = util.prompt_for_user_token(username, scope, client_id, client_secret, redirect_uri)"
   ]
  },
  {
   "cell_type": "code",
   "execution_count": 7,
   "metadata": {},
   "outputs": [],
   "source": [
    "#Initialize Spotipy client\n",
    "sp = spotipy.Spotify(auth=token)"
   ]
  },
  {
   "cell_type": "code",
   "execution_count": 11,
   "metadata": {},
   "outputs": [
    {
     "data": {
      "text/plain": [
       "<spotipy.client.Spotify at 0x269b51bd960>"
      ]
     },
     "execution_count": 11,
     "metadata": {},
     "output_type": "execute_result"
    }
   ],
   "source": [
    "sp"
   ]
  },
  {
   "cell_type": "code",
   "execution_count": 15,
   "metadata": {},
   "outputs": [
    {
     "name": "stderr",
     "output_type": "stream",
     "text": [
      "HTTP Error for GET to https://api.spotify.com/v1/search with Params: {'q': 'mfcc:[[[-4.52554535e+02]\\n  [-1.60617363e-02]\\n  [-1.33995842e-02]\\n  ...\\n  [-1.17713623e-02]\\n  [-1.01467073e-02]\\n  [-1.06720291e-02]]\\n\\n [[-1.53233124e+02]\\n  [-1.52863078e-02]\\n  [-1.38149289e-02]\\n  ...\\n  [-1.17672235e-02]\\n  [-1.01487376e-02]\\n  [-1.06713660e-02]]\\n\\n [[-1.34959366e+02]\\n  [-1.59334019e-02]\\n  [-1.34706581e-02]\\n  ...\\n  [-1.17684416e-02]\\n  [-1.01479366e-02]\\n  [-1.06727220e-02]]\\n\\n ...\\n\\n [[-1.13638519e+02]\\n  [ 3.10166245e+01]\\n  [-2.31427269e+01]\\n  ...\\n  [ 2.66576529e+00]\\n  [-2.49803042e+00]\\n  [ 2.30891585e+00]]\\n\\n [[-1.13638519e+02]\\n  [ 3.10166245e+01]\\n  [-2.31427269e+01]\\n  ...\\n  [ 2.66576529e+00]\\n  [-2.49803042e+00]\\n  [ 2.30891585e+00]]\\n\\n [[-1.13638519e+02]\\n  [ 3.10166245e+01]\\n  [-2.31427269e+01]\\n  ...\\n  [ 2.66576529e+00]\\n  [-2.49803042e+00]\\n  [ 2.30891585e+00]]]', 'limit': 10, 'offset': 0, 'type': 'track', 'market': None} returned 400 due to Bad request.\n"
     ]
    },
    {
     "ename": "SpotifyException",
     "evalue": "http status: 400, code:-1 - https://api.spotify.com/v1/search?q=mfcc%3A%5B%5B%5B-4.52554535e%2B02%5D%0A++%5B-1.60617363e-02%5D%0A++%5B-1.33995842e-02%5D%0A++...%0A++%5B-1.17713623e-02%5D%0A++%5B-1.01467073e-02%5D%0A++%5B-1.06720291e-02%5D%5D%0A%0A+%5B%5B-1.53233124e%2B02%5D%0A++%5B-1.52863078e-02%5D%0A++%5B-1.38149289e-02%5D%0A++...%0A++%5B-1.17672235e-02%5D%0A++%5B-1.01487376e-02%5D%0A++%5B-1.06713660e-02%5D%5D%0A%0A+%5B%5B-1.34959366e%2B02%5D%0A++%5B-1.59334019e-02%5D%0A++%5B-1.34706581e-02%5D%0A++...%0A++%5B-1.17684416e-02%5D%0A++%5B-1.01479366e-02%5D%0A++%5B-1.06727220e-02%5D%5D%0A%0A+...%0A%0A+%5B%5B-1.13638519e%2B02%5D%0A++%5B+3.10166245e%2B01%5D%0A++%5B-2.31427269e%2B01%5D%0A++...%0A++%5B+2.66576529e%2B00%5D%0A++%5B-2.49803042e%2B00%5D%0A++%5B+2.30891585e%2B00%5D%5D%0A%0A+%5B%5B-1.13638519e%2B02%5D%0A++%5B+3.10166245e%2B01%5D%0A++%5B-2.31427269e%2B01%5D%0A++...%0A++%5B+2.66576529e%2B00%5D%0A++%5B-2.49803042e%2B00%5D%0A++%5B+2.30891585e%2B00%5D%5D%0A%0A+%5B%5B-1.13638519e%2B02%5D%0A++%5B+3.10166245e%2B01%5D%0A++%5B-2.31427269e%2B01%5D%0A++...%0A++%5B+2.66576529e%2B00%5D%0A++%5B-2.49803042e%2B00%5D%0A++%5B+2.30891585e%2B00%5D%5D%5D&limit=10&offset=0&type=track:\n Bad request., reason: None",
     "output_type": "error",
     "traceback": [
      "\u001b[1;31m---------------------------------------------------------------------------\u001b[0m",
      "\u001b[1;31mHTTPError\u001b[0m                                 Traceback (most recent call last)",
      "File \u001b[1;32md:\\Softwares\\Conda3\\envs\\dsenv\\lib\\site-packages\\spotipy\\client.py:245\u001b[0m, in \u001b[0;36mSpotify._internal_call\u001b[1;34m(self, method, url, payload, params)\u001b[0m\n\u001b[0;32m    240\u001b[0m response \u001b[39m=\u001b[39m \u001b[39mself\u001b[39m\u001b[39m.\u001b[39m_session\u001b[39m.\u001b[39mrequest(\n\u001b[0;32m    241\u001b[0m     method, url, headers\u001b[39m=\u001b[39mheaders, proxies\u001b[39m=\u001b[39m\u001b[39mself\u001b[39m\u001b[39m.\u001b[39mproxies,\n\u001b[0;32m    242\u001b[0m     timeout\u001b[39m=\u001b[39m\u001b[39mself\u001b[39m\u001b[39m.\u001b[39mrequests_timeout, \u001b[39m*\u001b[39m\u001b[39m*\u001b[39margs\n\u001b[0;32m    243\u001b[0m )\n\u001b[1;32m--> 245\u001b[0m response\u001b[39m.\u001b[39;49mraise_for_status()\n\u001b[0;32m    246\u001b[0m results \u001b[39m=\u001b[39m response\u001b[39m.\u001b[39mjson()\n",
      "File \u001b[1;32md:\\Softwares\\Conda3\\envs\\dsenv\\lib\\site-packages\\requests\\models.py:1021\u001b[0m, in \u001b[0;36mResponse.raise_for_status\u001b[1;34m(self)\u001b[0m\n\u001b[0;32m   1020\u001b[0m \u001b[39mif\u001b[39;00m http_error_msg:\n\u001b[1;32m-> 1021\u001b[0m     \u001b[39mraise\u001b[39;00m HTTPError(http_error_msg, response\u001b[39m=\u001b[39m\u001b[39mself\u001b[39m)\n",
      "\u001b[1;31mHTTPError\u001b[0m: 400 Client Error: Bad Request for url: https://api.spotify.com/v1/search?q=mfcc%3A%5B%5B%5B-4.52554535e%2B02%5D%0A++%5B-1.60617363e-02%5D%0A++%5B-1.33995842e-02%5D%0A++...%0A++%5B-1.17713623e-02%5D%0A++%5B-1.01467073e-02%5D%0A++%5B-1.06720291e-02%5D%5D%0A%0A+%5B%5B-1.53233124e%2B02%5D%0A++%5B-1.52863078e-02%5D%0A++%5B-1.38149289e-02%5D%0A++...%0A++%5B-1.17672235e-02%5D%0A++%5B-1.01487376e-02%5D%0A++%5B-1.06713660e-02%5D%5D%0A%0A+%5B%5B-1.34959366e%2B02%5D%0A++%5B-1.59334019e-02%5D%0A++%5B-1.34706581e-02%5D%0A++...%0A++%5B-1.17684416e-02%5D%0A++%5B-1.01479366e-02%5D%0A++%5B-1.06727220e-02%5D%5D%0A%0A+...%0A%0A+%5B%5B-1.13638519e%2B02%5D%0A++%5B+3.10166245e%2B01%5D%0A++%5B-2.31427269e%2B01%5D%0A++...%0A++%5B+2.66576529e%2B00%5D%0A++%5B-2.49803042e%2B00%5D%0A++%5B+2.30891585e%2B00%5D%5D%0A%0A+%5B%5B-1.13638519e%2B02%5D%0A++%5B+3.10166245e%2B01%5D%0A++%5B-2.31427269e%2B01%5D%0A++...%0A++%5B+2.66576529e%2B00%5D%0A++%5B-2.49803042e%2B00%5D%0A++%5B+2.30891585e%2B00%5D%5D%0A%0A+%5B%5B-1.13638519e%2B02%5D%0A++%5B+3.10166245e%2B01%5D%0A++%5B-2.31427269e%2B01%5D%0A++...%0A++%5B+2.66576529e%2B00%5D%0A++%5B-2.49803042e%2B00%5D%0A++%5B+2.30891585e%2B00%5D%5D%5D&limit=10&offset=0&type=track",
      "\nDuring handling of the above exception, another exception occurred:\n",
      "\u001b[1;31mSpotifyException\u001b[0m                          Traceback (most recent call last)",
      "Cell \u001b[1;32mIn[15], line 2\u001b[0m\n\u001b[0;32m      1\u001b[0m \u001b[39m#Search for tracks on Spotify with similar mfcc features\u001b[39;00m\n\u001b[1;32m----> 2\u001b[0m results \u001b[39m=\u001b[39m sp\u001b[39m.\u001b[39;49msearch(q\u001b[39m=\u001b[39;49m\u001b[39m\"\u001b[39;49m\u001b[39mmfcc:\u001b[39;49m\u001b[39m\"\u001b[39;49m \u001b[39m+\u001b[39;49m \u001b[39mstr\u001b[39;49m(mfcc), \u001b[39mtype\u001b[39;49m\u001b[39m=\u001b[39;49m\u001b[39m\"\u001b[39;49m\u001b[39mtrack\u001b[39;49m\u001b[39m\"\u001b[39;49m)\n",
      "File \u001b[1;32md:\\Softwares\\Conda3\\envs\\dsenv\\lib\\site-packages\\spotipy\\client.py:553\u001b[0m, in \u001b[0;36mSpotify.search\u001b[1;34m(self, q, limit, offset, type, market)\u001b[0m\n\u001b[0;32m    538\u001b[0m \u001b[39mdef\u001b[39;00m \u001b[39msearch\u001b[39m(\u001b[39mself\u001b[39m, q, limit\u001b[39m=\u001b[39m\u001b[39m10\u001b[39m, offset\u001b[39m=\u001b[39m\u001b[39m0\u001b[39m, \u001b[39mtype\u001b[39m\u001b[39m=\u001b[39m\u001b[39m\"\u001b[39m\u001b[39mtrack\u001b[39m\u001b[39m\"\u001b[39m, market\u001b[39m=\u001b[39m\u001b[39mNone\u001b[39;00m):\n\u001b[0;32m    539\u001b[0m     \u001b[39m\"\"\" searches for an item\u001b[39;00m\n\u001b[0;32m    540\u001b[0m \n\u001b[0;32m    541\u001b[0m \u001b[39m        Parameters:\u001b[39;00m\n\u001b[1;32m   (...)\u001b[0m\n\u001b[0;32m    551\u001b[0m \u001b[39m                       from_token.\u001b[39;00m\n\u001b[0;32m    552\u001b[0m \u001b[39m    \"\"\"\u001b[39;00m\n\u001b[1;32m--> 553\u001b[0m     \u001b[39mreturn\u001b[39;00m \u001b[39mself\u001b[39;49m\u001b[39m.\u001b[39;49m_get(\n\u001b[0;32m    554\u001b[0m         \u001b[39m\"\u001b[39;49m\u001b[39msearch\u001b[39;49m\u001b[39m\"\u001b[39;49m, q\u001b[39m=\u001b[39;49mq, limit\u001b[39m=\u001b[39;49mlimit, offset\u001b[39m=\u001b[39;49moffset, \u001b[39mtype\u001b[39;49m\u001b[39m=\u001b[39;49m\u001b[39mtype\u001b[39;49m, market\u001b[39m=\u001b[39;49mmarket\n\u001b[0;32m    555\u001b[0m     )\n",
      "File \u001b[1;32md:\\Softwares\\Conda3\\envs\\dsenv\\lib\\site-packages\\spotipy\\client.py:297\u001b[0m, in \u001b[0;36mSpotify._get\u001b[1;34m(self, url, args, payload, **kwargs)\u001b[0m\n\u001b[0;32m    294\u001b[0m \u001b[39mif\u001b[39;00m args:\n\u001b[0;32m    295\u001b[0m     kwargs\u001b[39m.\u001b[39mupdate(args)\n\u001b[1;32m--> 297\u001b[0m \u001b[39mreturn\u001b[39;00m \u001b[39mself\u001b[39;49m\u001b[39m.\u001b[39;49m_internal_call(\u001b[39m\"\u001b[39;49m\u001b[39mGET\u001b[39;49m\u001b[39m\"\u001b[39;49m, url, payload, kwargs)\n",
      "File \u001b[1;32md:\\Softwares\\Conda3\\envs\\dsenv\\lib\\site-packages\\spotipy\\client.py:267\u001b[0m, in \u001b[0;36mSpotify._internal_call\u001b[1;34m(self, method, url, payload, params)\u001b[0m\n\u001b[0;32m    260\u001b[0m         reason \u001b[39m=\u001b[39m \u001b[39mNone\u001b[39;00m\n\u001b[0;32m    262\u001b[0m     logger\u001b[39m.\u001b[39merror(\n\u001b[0;32m    263\u001b[0m         \u001b[39m'\u001b[39m\u001b[39mHTTP Error for \u001b[39m\u001b[39m%s\u001b[39;00m\u001b[39m to \u001b[39m\u001b[39m%s\u001b[39;00m\u001b[39m with Params: \u001b[39m\u001b[39m%s\u001b[39;00m\u001b[39m returned \u001b[39m\u001b[39m%s\u001b[39;00m\u001b[39m due to \u001b[39m\u001b[39m%s\u001b[39;00m\u001b[39m'\u001b[39m,\n\u001b[0;32m    264\u001b[0m         method, url, args\u001b[39m.\u001b[39mget(\u001b[39m\"\u001b[39m\u001b[39mparams\u001b[39m\u001b[39m\"\u001b[39m), response\u001b[39m.\u001b[39mstatus_code, msg\n\u001b[0;32m    265\u001b[0m     )\n\u001b[1;32m--> 267\u001b[0m     \u001b[39mraise\u001b[39;00m SpotifyException(\n\u001b[0;32m    268\u001b[0m         response\u001b[39m.\u001b[39mstatus_code,\n\u001b[0;32m    269\u001b[0m         \u001b[39m-\u001b[39m\u001b[39m1\u001b[39m,\n\u001b[0;32m    270\u001b[0m         \u001b[39m\"\u001b[39m\u001b[39m%s\u001b[39;00m\u001b[39m:\u001b[39m\u001b[39m\\n\u001b[39;00m\u001b[39m \u001b[39m\u001b[39m%s\u001b[39;00m\u001b[39m\"\u001b[39m \u001b[39m%\u001b[39m (response\u001b[39m.\u001b[39murl, msg),\n\u001b[0;32m    271\u001b[0m         reason\u001b[39m=\u001b[39mreason,\n\u001b[0;32m    272\u001b[0m         headers\u001b[39m=\u001b[39mresponse\u001b[39m.\u001b[39mheaders,\n\u001b[0;32m    273\u001b[0m     )\n\u001b[0;32m    274\u001b[0m \u001b[39mexcept\u001b[39;00m requests\u001b[39m.\u001b[39mexceptions\u001b[39m.\u001b[39mRetryError \u001b[39mas\u001b[39;00m retry_error:\n\u001b[0;32m    275\u001b[0m     request \u001b[39m=\u001b[39m retry_error\u001b[39m.\u001b[39mrequest\n",
      "\u001b[1;31mSpotifyException\u001b[0m: http status: 400, code:-1 - https://api.spotify.com/v1/search?q=mfcc%3A%5B%5B%5B-4.52554535e%2B02%5D%0A++%5B-1.60617363e-02%5D%0A++%5B-1.33995842e-02%5D%0A++...%0A++%5B-1.17713623e-02%5D%0A++%5B-1.01467073e-02%5D%0A++%5B-1.06720291e-02%5D%5D%0A%0A+%5B%5B-1.53233124e%2B02%5D%0A++%5B-1.52863078e-02%5D%0A++%5B-1.38149289e-02%5D%0A++...%0A++%5B-1.17672235e-02%5D%0A++%5B-1.01487376e-02%5D%0A++%5B-1.06713660e-02%5D%5D%0A%0A+%5B%5B-1.34959366e%2B02%5D%0A++%5B-1.59334019e-02%5D%0A++%5B-1.34706581e-02%5D%0A++...%0A++%5B-1.17684416e-02%5D%0A++%5B-1.01479366e-02%5D%0A++%5B-1.06727220e-02%5D%5D%0A%0A+...%0A%0A+%5B%5B-1.13638519e%2B02%5D%0A++%5B+3.10166245e%2B01%5D%0A++%5B-2.31427269e%2B01%5D%0A++...%0A++%5B+2.66576529e%2B00%5D%0A++%5B-2.49803042e%2B00%5D%0A++%5B+2.30891585e%2B00%5D%5D%0A%0A+%5B%5B-1.13638519e%2B02%5D%0A++%5B+3.10166245e%2B01%5D%0A++%5B-2.31427269e%2B01%5D%0A++...%0A++%5B+2.66576529e%2B00%5D%0A++%5B-2.49803042e%2B00%5D%0A++%5B+2.30891585e%2B00%5D%5D%0A%0A+%5B%5B-1.13638519e%2B02%5D%0A++%5B+3.10166245e%2B01%5D%0A++%5B-2.31427269e%2B01%5D%0A++...%0A++%5B+2.66576529e%2B00%5D%0A++%5B-2.49803042e%2B00%5D%0A++%5B+2.30891585e%2B00%5D%5D%5D&limit=10&offset=0&type=track:\n Bad request., reason: None"
     ]
    }
   ],
   "source": [
    "#Search for tracks on Spotify with similar mfcc features\n",
    "results = sp.search(q=\"mfcc:\" + str(mfcc), type=\"track\")"
   ]
  },
  {
   "cell_type": "code",
   "execution_count": 14,
   "metadata": {},
   "outputs": [
    {
     "ename": "NameError",
     "evalue": "name 'results' is not defined",
     "output_type": "error",
     "traceback": [
      "\u001b[1;31m---------------------------------------------------------------------------\u001b[0m",
      "\u001b[1;31mNameError\u001b[0m                                 Traceback (most recent call last)",
      "Cell \u001b[1;32mIn[14], line 2\u001b[0m\n\u001b[0;32m      1\u001b[0m \u001b[39m#Get track IDs for the top 5 results\u001b[39;00m\n\u001b[1;32m----> 2\u001b[0m track_ids \u001b[39m=\u001b[39m [result[\u001b[39m\"\u001b[39m\u001b[39mid\u001b[39m\u001b[39m\"\u001b[39m] \u001b[39mfor\u001b[39;00m result \u001b[39min\u001b[39;00m results[\u001b[39m\"\u001b[39m\u001b[39mtracks\u001b[39m\u001b[39m\"\u001b[39m][\u001b[39m\"\u001b[39m\u001b[39mitems\u001b[39m\u001b[39m\"\u001b[39m][:\u001b[39m5\u001b[39m]]\n",
      "\u001b[1;31mNameError\u001b[0m: name 'results' is not defined"
     ]
    }
   ],
   "source": [
    "#Get track IDs for the top 5 results\n",
    "track_ids = [result[\"id\"] for result in results[\"tracks\"][\"items\"][:5]]"
   ]
  },
  {
   "cell_type": "code",
   "execution_count": null,
   "metadata": {},
   "outputs": [],
   "source": [
    "#Use the Spotify API to search for similar songs based on the mfcc features\n",
    "results = sp.search(q='mfcc:' + str(mfcc), type='track')"
   ]
  },
  {
   "cell_type": "code",
   "execution_count": null,
   "metadata": {},
   "outputs": [],
   "source": [
    "#Print the top 5 similar songs\n",
    "for i, track in enumerate(results['tracks']['items'][:5]):\n",
    "    print(f'{i+1}. {track[\"name\"]} by {track[\"artists\"][0][\"name\"]}')"
   ]
  }
 ],
 "metadata": {
  "kernelspec": {
   "display_name": "dsenv",
   "language": "python",
   "name": "python3"
  },
  "language_info": {
   "codemirror_mode": {
    "name": "ipython",
    "version": 3
   },
   "file_extension": ".py",
   "mimetype": "text/x-python",
   "name": "python",
   "nbconvert_exporter": "python",
   "pygments_lexer": "ipython3",
   "version": "3.10.8"
  },
  "orig_nbformat": 4,
  "vscode": {
   "interpreter": {
    "hash": "d24c4e56341a1370154d608d6118273e6b20dc1aaa192d003ad035abe359961d"
   }
  }
 },
 "nbformat": 4,
 "nbformat_minor": 2
}
