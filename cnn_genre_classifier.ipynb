{
 "cells": [
  {
   "cell_type": "code",
   "execution_count": 1,
   "metadata": {},
   "outputs": [],
   "source": [
    "import json\n",
    "import numpy as np\n",
    "from sklearn.model_selection import train_test_split\n",
    "import matplotlib.pyplot as plt\n",
    "import keras\n",
    "import joblib\n"
   ]
  },
  {
   "cell_type": "code",
   "execution_count": 2,
   "metadata": {},
   "outputs": [],
   "source": [
    "DATA_PATH = \"data.json\""
   ]
  },
  {
   "cell_type": "code",
   "execution_count": 3,
   "metadata": {},
   "outputs": [],
   "source": [
    "def load_data(data_path):\n",
    "    \"\"\"Loads training dataset from json file.\n",
    "        :param data_path (str): Path to json file containing data\n",
    "        :return X (ndarray): Inputs\n",
    "        :return y (ndarray): Targets\n",
    "    \"\"\"\n",
    "\n",
    "    with open(data_path, \"r\") as fp:\n",
    "        data = json.load(fp)\n",
    "\n",
    "    X = np.array(data[\"mfcc\"])\n",
    "    y = np.array(data[\"labels\"])\n",
    "    return X, y"
   ]
  },
  {
   "cell_type": "code",
   "execution_count": 4,
   "metadata": {},
   "outputs": [],
   "source": [
    "def plot_history(history):\n",
    "    \"\"\"Plots accuracy/loss for training/validation set as a function of the epochs\n",
    "        :param history: Training history of model\n",
    "        :return:\n",
    "    \"\"\"\n",
    "\n",
    "    fig, axs = plt.subplots(2)\n",
    "\n",
    "    # create accuracy sublpot\n",
    "    axs[0].plot(history.history[\"accuracy\"], label=\"train accuracy\")\n",
    "    axs[0].plot(history.history[\"val_accuracy\"], label=\"test accuracy\")\n",
    "    axs[0].set_ylabel(\"Accuracy\")\n",
    "    axs[0].legend(loc=\"lower right\")\n",
    "    axs[0].set_title(\"Accuracy eval\")\n",
    "\n",
    "    # create error sublpot\n",
    "    axs[1].plot(history.history[\"loss\"], label=\"train error\")\n",
    "    axs[1].plot(history.history[\"val_loss\"], label=\"test error\")\n",
    "    axs[1].set_ylabel(\"Error\")\n",
    "    axs[1].set_xlabel(\"Epoch\")\n",
    "    axs[1].legend(loc=\"upper right\")\n",
    "    axs[1].set_title(\"Error eval\")\n",
    "\n",
    "    plt.show()\n"
   ]
  },
  {
   "cell_type": "code",
   "execution_count": 5,
   "metadata": {},
   "outputs": [],
   "source": [
    "def prepare_datasets(test_size, validation_size):\n",
    "    \"\"\"Loads data and splits it into train, validation and test sets.\n",
    "    :param test_size (float): Value in [0, 1] indicating percentage of data set to allocate to test split\n",
    "    :param validation_size (float): Value in [0, 1] indicating percentage of train set to allocate to validation split\n",
    "    :return X_train (ndarray): Input training set\n",
    "    :return X_validation (ndarray): Input validation set\n",
    "    :return X_test (ndarray): Input test set\n",
    "    :return y_train (ndarray): Target training set\n",
    "    :return y_validation (ndarray): Target validation set\n",
    "    :return y_test (ndarray): Target test set\n",
    "    \"\"\"\n",
    "\n",
    "    # load data\n",
    "    X, y = load_data(DATA_PATH)\n",
    "\n",
    "    # create train, validation and test split\n",
    "    X_train, X_test, y_train, y_test = train_test_split(X, y, test_size=test_size)\n",
    "    X_train, X_validation, y_train, y_validation = train_test_split(X_train, y_train, test_size=validation_size)\n",
    "\n",
    "    # add an axis to input sets\n",
    "    X_train = X_train[..., np.newaxis]\n",
    "    X_validation = X_validation[..., np.newaxis]\n",
    "    X_test = X_test[..., np.newaxis]\n",
    "\n",
    "    return X_train, X_validation, X_test, y_train, y_validation, y_test\n"
   ]
  },
  {
   "cell_type": "code",
   "execution_count": 6,
   "metadata": {},
   "outputs": [],
   "source": [
    "def build_model(input_shape):\n",
    "    \"\"\"Generates CNN model\n",
    "    :param input_shape (tuple): Shape of input set\n",
    "    :return model: CNN model\n",
    "    \"\"\"\n",
    "\n",
    "    # build network topology\n",
    "    model = keras.Sequential()\n",
    "\n",
    "    # 1st conv layer\n",
    "    model.add(keras.layers.Conv2D(32, (3, 3), activation='relu', input_shape=input_shape))\n",
    "    model.add(keras.layers.MaxPooling2D((3, 3), strides=(2, 2), padding='same'))\n",
    "    model.add(keras.layers.BatchNormalization())\n",
    "\n",
    "    # 2nd conv layer\n",
    "    model.add(keras.layers.Conv2D(32, (3, 3), activation='relu'))\n",
    "    model.add(keras.layers.MaxPooling2D((3, 3), strides=(2, 2), padding='same'))\n",
    "    model.add(keras.layers.BatchNormalization())\n",
    "\n",
    "    # 3rd conv layer\n",
    "    model.add(keras.layers.Conv2D(32, (2, 2), activation='relu'))\n",
    "    model.add(keras.layers.MaxPooling2D((2, 2), strides=(2, 2), padding='same'))\n",
    "    model.add(keras.layers.BatchNormalization())\n",
    "\n",
    "    # flatten output and feed it into dense layer\n",
    "    model.add(keras.layers.Flatten())\n",
    "    model.add(keras.layers.Dense(64, activation='relu'))\n",
    "    model.add(keras.layers.Dropout(0.3))\n",
    "\n",
    "    # output layer\n",
    "    model.add(keras.layers.Dense(10, activation='softmax'))\n",
    "\n",
    "    return model\n"
   ]
  },
  {
   "cell_type": "code",
   "execution_count": 7,
   "metadata": {},
   "outputs": [],
   "source": [
    "def predict(model, X, y):\n",
    "    \"\"\"Predict a single sample using the trained model\n",
    "    :param model: Trained classifier\n",
    "    :param X: Input data\n",
    "    :param y (int): Target\n",
    "    \"\"\"\n",
    "\n",
    "    # add a dimension to input data for sample - model.predict() expects a 4d array in this case\n",
    "    X = X[np.newaxis, ...] # array shape (1, 130, 13, 1)\n",
    "\n",
    "    # perform prediction\n",
    "    prediction = model.predict(X)\n",
    "\n",
    "    # get index with max value\n",
    "    predicted_index = np.argmax(prediction, axis=1)\n",
    "\n",
    "    print(\"Target: {}, Predicted label: {}\".format(y, predicted_index))\n"
   ]
  },
  {
   "cell_type": "code",
   "execution_count": 8,
   "metadata": {},
   "outputs": [
    {
     "name": "stdout",
     "output_type": "stream",
     "text": [
      "Model: \"sequential\"\n",
      "_________________________________________________________________\n",
      " Layer (type)                Output Shape              Param #   \n",
      "=================================================================\n",
      " conv2d (Conv2D)             (None, 128, 11, 32)       320       \n",
      "                                                                 \n",
      " max_pooling2d (MaxPooling2D  (None, 64, 6, 32)        0         \n",
      " )                                                               \n",
      "                                                                 \n",
      " batch_normalization (BatchN  (None, 64, 6, 32)        128       \n",
      " ormalization)                                                   \n",
      "                                                                 \n",
      " conv2d_1 (Conv2D)           (None, 62, 4, 32)         9248      \n",
      "                                                                 \n",
      " max_pooling2d_1 (MaxPooling  (None, 31, 2, 32)        0         \n",
      " 2D)                                                             \n",
      "                                                                 \n",
      " batch_normalization_1 (Batc  (None, 31, 2, 32)        128       \n",
      " hNormalization)                                                 \n",
      "                                                                 \n",
      " conv2d_2 (Conv2D)           (None, 30, 1, 32)         4128      \n",
      "                                                                 \n",
      " max_pooling2d_2 (MaxPooling  (None, 15, 1, 32)        0         \n",
      " 2D)                                                             \n",
      "                                                                 \n",
      " batch_normalization_2 (Batc  (None, 15, 1, 32)        128       \n",
      " hNormalization)                                                 \n",
      "                                                                 \n",
      " flatten (Flatten)           (None, 480)               0         \n",
      "                                                                 \n",
      " dense (Dense)               (None, 64)                30784     \n",
      "                                                                 \n",
      " dropout (Dropout)           (None, 64)                0         \n",
      "                                                                 \n",
      " dense_1 (Dense)             (None, 10)                650       \n",
      "                                                                 \n",
      "=================================================================\n",
      "Total params: 45,514\n",
      "Trainable params: 45,322\n",
      "Non-trainable params: 192\n",
      "_________________________________________________________________\n",
      "Epoch 1/30\n",
      "188/188 [==============================] - 7s 29ms/step - loss: 2.4000 - accuracy: 0.2237 - val_loss: 1.9433 - val_accuracy: 0.3084\n",
      "Epoch 2/30\n",
      "188/188 [==============================] - 5s 25ms/step - loss: 1.8480 - accuracy: 0.3544 - val_loss: 1.5755 - val_accuracy: 0.4152\n",
      "Epoch 3/30\n",
      "188/188 [==============================] - 5s 26ms/step - loss: 1.6363 - accuracy: 0.4143 - val_loss: 1.3969 - val_accuracy: 0.4866\n",
      "Epoch 4/30\n",
      "188/188 [==============================] - 5s 24ms/step - loss: 1.5017 - accuracy: 0.4617 - val_loss: 1.3359 - val_accuracy: 0.5080\n",
      "Epoch 5/30\n",
      "188/188 [==============================] - 5s 24ms/step - loss: 1.4325 - accuracy: 0.4859 - val_loss: 1.2515 - val_accuracy: 0.5507\n",
      "Epoch 6/30\n",
      "188/188 [==============================] - 5s 25ms/step - loss: 1.3652 - accuracy: 0.5143 - val_loss: 1.1998 - val_accuracy: 0.5734\n",
      "Epoch 7/30\n",
      "188/188 [==============================] - 5s 24ms/step - loss: 1.2807 - accuracy: 0.5391 - val_loss: 1.1589 - val_accuracy: 0.5848\n",
      "Epoch 8/30\n",
      "188/188 [==============================] - 5s 25ms/step - loss: 1.2400 - accuracy: 0.5573 - val_loss: 1.1250 - val_accuracy: 0.6001\n",
      "Epoch 9/30\n",
      "188/188 [==============================] - 4s 24ms/step - loss: 1.1937 - accuracy: 0.5712 - val_loss: 1.0842 - val_accuracy: 0.6275\n",
      "Epoch 10/30\n",
      "188/188 [==============================] - 5s 25ms/step - loss: 1.1631 - accuracy: 0.5820 - val_loss: 1.0675 - val_accuracy: 0.6135\n",
      "Epoch 11/30\n",
      "188/188 [==============================] - 4s 24ms/step - loss: 1.1145 - accuracy: 0.6044 - val_loss: 1.0313 - val_accuracy: 0.6382\n",
      "Epoch 12/30\n",
      "188/188 [==============================] - 5s 24ms/step - loss: 1.1099 - accuracy: 0.6026 - val_loss: 1.0156 - val_accuracy: 0.6375\n",
      "Epoch 13/30\n",
      "188/188 [==============================] - 5s 26ms/step - loss: 1.0613 - accuracy: 0.6246 - val_loss: 1.0033 - val_accuracy: 0.6409\n",
      "Epoch 14/30\n",
      "188/188 [==============================] - 5s 24ms/step - loss: 1.0245 - accuracy: 0.6381 - val_loss: 0.9725 - val_accuracy: 0.6649\n",
      "Epoch 15/30\n",
      "188/188 [==============================] - 5s 25ms/step - loss: 1.0038 - accuracy: 0.6400 - val_loss: 0.9651 - val_accuracy: 0.6555\n",
      "Epoch 16/30\n",
      "188/188 [==============================] - 5s 24ms/step - loss: 0.9797 - accuracy: 0.6602 - val_loss: 0.9422 - val_accuracy: 0.6602\n",
      "Epoch 17/30\n",
      "188/188 [==============================] - 5s 24ms/step - loss: 0.9583 - accuracy: 0.6602 - val_loss: 0.9290 - val_accuracy: 0.6702\n",
      "Epoch 18/30\n",
      "188/188 [==============================] - 5s 24ms/step - loss: 0.9436 - accuracy: 0.6653 - val_loss: 0.9475 - val_accuracy: 0.6602\n",
      "Epoch 19/30\n",
      "188/188 [==============================] - 5s 25ms/step - loss: 0.9044 - accuracy: 0.6794 - val_loss: 0.9174 - val_accuracy: 0.6736\n",
      "Epoch 20/30\n",
      "188/188 [==============================] - 5s 24ms/step - loss: 0.8884 - accuracy: 0.6905 - val_loss: 0.9086 - val_accuracy: 0.6889\n",
      "Epoch 21/30\n",
      "188/188 [==============================] - 5s 24ms/step - loss: 0.8534 - accuracy: 0.7001 - val_loss: 0.8724 - val_accuracy: 0.6862\n",
      "Epoch 22/30\n",
      "188/188 [==============================] - 5s 24ms/step - loss: 0.8553 - accuracy: 0.7011 - val_loss: 0.8661 - val_accuracy: 0.7003\n",
      "Epoch 23/30\n",
      "188/188 [==============================] - 5s 24ms/step - loss: 0.8290 - accuracy: 0.7142 - val_loss: 0.8532 - val_accuracy: 0.7016\n",
      "Epoch 24/30\n",
      "188/188 [==============================] - 5s 25ms/step - loss: 0.8056 - accuracy: 0.7172 - val_loss: 0.8398 - val_accuracy: 0.7143\n",
      "Epoch 25/30\n",
      "188/188 [==============================] - 5s 24ms/step - loss: 0.7918 - accuracy: 0.7248 - val_loss: 0.8518 - val_accuracy: 0.7016\n",
      "Epoch 26/30\n",
      "188/188 [==============================] - 5s 24ms/step - loss: 0.7664 - accuracy: 0.7309 - val_loss: 0.8323 - val_accuracy: 0.7143\n",
      "Epoch 27/30\n",
      "188/188 [==============================] - 5s 24ms/step - loss: 0.7766 - accuracy: 0.7323 - val_loss: 0.8306 - val_accuracy: 0.7143\n",
      "Epoch 28/30\n",
      "188/188 [==============================] - 5s 24ms/step - loss: 0.7441 - accuracy: 0.7418 - val_loss: 0.8298 - val_accuracy: 0.7049\n",
      "Epoch 29/30\n",
      "188/188 [==============================] - 5s 24ms/step - loss: 0.7295 - accuracy: 0.7495 - val_loss: 0.8384 - val_accuracy: 0.7109\n",
      "Epoch 30/30\n",
      "188/188 [==============================] - 4s 24ms/step - loss: 0.7306 - accuracy: 0.7458 - val_loss: 0.8194 - val_accuracy: 0.7210\n"
     ]
    },
    {
     "data": {
      "image/png": "[encoded data removed]",
      "text/plain": [
       "<Figure size 640x480 with 2 Axes>"
      ]
     },
     "metadata": {},
     "output_type": "display_data"
    },
    {
     "name": "stdout",
     "output_type": "stream",
     "text": [
      "79/79 - 1s - loss: 0.8739 - accuracy: 0.7036 - 602ms/epoch - 8ms/step\n",
      "\n",
      "Test accuracy: 0.7036443948745728\n",
      "1/1 [==============================] - 0s 419ms/step\n",
      "Target: 5, Predicted label: [5]\n"
     ]
    }
   ],
   "source": [
    "if __name__ == \"__main__\":\n",
    "\n",
    "    # get train, validation, test splits\n",
    "    X_train, X_validation, X_test, y_train, y_validation, y_test = prepare_datasets(0.25, 0.2)\n",
    "\n",
    "    # create network\n",
    "    input_shape = (X_train.shape[1], X_train.shape[2], 1)\n",
    "    model = build_model(input_shape)\n",
    "\n",
    "    # compile model\n",
    "    optimiser = keras.optimizers.Adam(learning_rate=0.0001)\n",
    "    model.compile(optimizer=optimiser,\n",
    "                  loss='sparse_categorical_crossentropy',\n",
    "                  metrics=['accuracy'])\n",
    "\n",
    "    model.summary()\n",
    "\n",
    "    # train model\n",
    "    history = model.fit(X_train, y_train, validation_data=(X_validation, y_validation), batch_size=32, epochs=30)\n",
    "\n",
    "    # plot accuracy/error for training and validation\n",
    "    plot_history(history)\n",
    "\n",
    "    # evaluate model on test set\n",
    "    test_loss, test_acc = model.evaluate(X_test, y_test, verbose=2)\n",
    "    print('\\nTest accuracy:', test_acc)\n",
    "\n",
    "    # pick a sample to predict from the test set\n",
    "    X_to_predict = X_test[100]\n",
    "    y_to_predict = y_test[100]\n",
    "\n",
    "    # predict sample\n",
    "    predict(model, X_to_predict, y_to_predict)"
   ]
  },
  {
   "cell_type": "code",
   "execution_count": 9,
   "metadata": {},
   "outputs": [],
   "source": [
    "import h5py"
   ]
  },
  {
   "cell_type": "code",
   "execution_count": 10,
   "metadata": {},
   "outputs": [
    {
     "name": "stdout",
     "output_type": "stream",
     "text": [
      "Saved model to disk\n"
     ]
    }
   ],
   "source": [
    "# serialize model to JSON\n",
    "model_json = model.to_json()\n",
    "with open(\"Model/model.json\", \"w\") as json_file:\n",
    "    json_file.write(model_json)\n",
    "# serialize weights to HDF5\n",
    "model.save_weights(\"Model/model.h5\")\n",
    "print(\"Saved model to disk\")"
   ]
  },
  {
   "cell_type": "code",
   "execution_count": 12,
   "metadata": {},
   "outputs": [
    {
     "name": "stdout",
     "output_type": "stream",
     "text": [
      "Loaded model from disk\n"
     ]
    }
   ],
   "source": [
    "from keras.models import model_from_json\n",
    "# load json and create model\n",
    "json_file = open('Model/model.json', 'r')\n",
    "loaded_model_json = json_file.read()\n",
    "json_file.close()\n",
    "loaded_model = model_from_json(loaded_model_json)\n",
    "# load weights into new model\n",
    "loaded_model.load_weights(\"Model/model.h5\")\n",
    "print(\"Loaded model from disk\")"
   ]
  },
  {
   "cell_type": "code",
   "execution_count": 13,
   "metadata": {},
   "outputs": [
    {
     "name": "stdout",
     "output_type": "stream",
     "text": [
      "79/79 - 1s - loss: 0.8739 - accuracy: 0.7036 - 1s/epoch - 14ms/step\n",
      "\n",
      "Test accuracy: 0.7036443948745728\n",
      "1/1 [==============================] - 0s 232ms/step\n",
      "Target: 5, Predicted label: [5]\n"
     ]
    }
   ],
   "source": [
    "# evaluate loaded model on test data\n",
    "loaded_model.compile(optimizer=optimiser,\n",
    "                  loss='sparse_categorical_crossentropy',\n",
    "                  metrics=['accuracy'])\n",
    "test_loss, test_acc = loaded_model.evaluate(X_test, y_test, verbose=2)\n",
    "print('\\nTest accuracy:', test_acc)\n",
    "\n",
    "# pick a sample to predict from the test set\n",
    "X_to_predict = X_test[100]\n",
    "y_to_predict = y_test[100]\n",
    "\n",
    "# predict sample\n",
    "predict(loaded_model, X_to_predict, y_to_predict)"
   ]
  }
 ],
 "metadata": {
  "kernelspec": {
   "display_name": "dsenv",
   "language": "python",
   "name": "python3"
  },
  "language_info": {
   "codemirror_mode": {
    "name": "ipython",
    "version": 3
   },
   "file_extension": ".py",
   "mimetype": "text/x-python",
   "name": "python",
   "nbconvert_exporter": "python",
   "pygments_lexer": "ipython3",
   "version": "3.10.8"
  },
  "orig_nbformat": 4,
  "vscode": {
   "interpreter": {
    "hash": "d24c4e56341a1370154d608d6118273e6b20dc1aaa192d003ad035abe359961d"
   }
  }
 },
 "nbformat": 4,
 "nbformat_minor": 2
}
