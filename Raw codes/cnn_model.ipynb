{
 "cells": [
  {
   "cell_type": "code",
   "execution_count": 1,
   "metadata": {},
   "outputs": [],
   "source": [
    "import json\n",
    "import numpy as np\n",
    "from sklearn.model_selection import train_test_split\n",
    "import matplotlib.pyplot as plt\n",
    "import keras\n",
    "import joblib\n",
    "import h5py"
   ]
  },
  {
   "cell_type": "code",
   "execution_count": 2,
   "metadata": {},
   "outputs": [],
   "source": [
    "DATA_PATH = \"data.json\""
   ]
  },
  {
   "cell_type": "code",
   "execution_count": 3,
   "metadata": {},
   "outputs": [],
   "source": [
    "def load_data(data_path):\n",
    "    \n",
    "    with open(data_path, \"r\") as fp:\n",
    "        data = json.load(fp)\n",
    "\n",
    "    X = np.array(data[\"mfcc\"])\n",
    "    y = np.array(data[\"labels\"])\n",
    "    return X, y"
   ]
  },
  {
   "cell_type": "code",
   "execution_count": 4,
   "metadata": {},
   "outputs": [],
   "source": [
    "def plot_history(history):\n",
    "    \n",
    "    fig, axs = plt.subplots(2)\n",
    "\n",
    "    # Accuracy sublpot\n",
    "    axs[0].plot(history.history[\"accuracy\"], label=\"train accuracy\")\n",
    "    axs[0].plot(history.history[\"val_accuracy\"], label=\"test accuracy\")\n",
    "    axs[0].set_ylabel(\"Accuracy\")\n",
    "    axs[0].legend(loc=\"lower right\")\n",
    "    axs[0].set_title(\"Accuracy eval\")\n",
    "\n",
    "    # Error sublpot\n",
    "    axs[1].plot(history.history[\"loss\"], label=\"train error\")\n",
    "    axs[1].plot(history.history[\"val_loss\"], label=\"test error\")\n",
    "    axs[1].set_ylabel(\"Error\")\n",
    "    axs[1].set_xlabel(\"Epoch\")\n",
    "    axs[1].legend(loc=\"upper right\")\n",
    "    axs[1].set_title(\"Error eval\")\n",
    "\n",
    "    plt.show()\n"
   ]
  },
  {
   "cell_type": "code",
   "execution_count": 5,
   "metadata": {},
   "outputs": [],
   "source": [
    "def prepare_datasets(test_size, validation_size):\n",
    "    \"\"\"Loads data and splits it into train, validation and test sets.\n",
    "    :param test_size (float): Value in [0, 1] indicating percentage of data set to allocate to test split\n",
    "    :param validation_size (float): Value in [0, 1] indicating percentage of train set to allocate to validation split\n",
    "    :return X_train (ndarray): Input training set\n",
    "    :return X_validation (ndarray): Input validation set\n",
    "    :return X_test (ndarray): Input test set\n",
    "    :return y_train (ndarray): Target training set\n",
    "    :return y_validation (ndarray): Target validation set\n",
    "    :return y_test (ndarray): Target test set\n",
    "    \"\"\"\n",
    "\n",
    "    # load data\n",
    "    X, y = load_data(DATA_PATH)\n",
    "\n",
    "    # create train, validation and test split\n",
    "    X_train, X_test, y_train, y_test = train_test_split(X, y, test_size=test_size)\n",
    "    X_train, X_validation, y_train, y_validation = train_test_split(X_train, y_train, test_size=validation_size)\n",
    "\n",
    "    # add an axis to input sets\n",
    "    X_train = X_train[..., np.newaxis]\n",
    "    X_validation = X_validation[..., np.newaxis]\n",
    "    X_test = X_test[..., np.newaxis]\n",
    "\n",
    "    return X_train, X_validation, X_test, y_train, y_validation, y_test\n"
   ]
  },
  {
   "cell_type": "code",
   "execution_count": 6,
   "metadata": {},
   "outputs": [],
   "source": [
    "def build_model(input_shape):\n",
    "    \"\"\"Generates CNN model\n",
    "    :param input_shape (tuple): Shape of input set\n",
    "    :return model: CNN model\n",
    "    \"\"\"\n",
    "\n",
    "    # build network topology\n",
    "    model = keras.Sequential()\n",
    "\n",
    "    # 1st hidden layer\n",
    "    model.add(keras.layers.Conv2D(32, (3, 3), activation='relu', input_shape=input_shape))\n",
    "    model.add(keras.layers.MaxPooling2D((3, 3), strides=(2, 2), padding='same'))\n",
    "    model.add(keras.layers.BatchNormalization())\n",
    "\n",
    "    # 2nd hidden layer\n",
    "    model.add(keras.layers.Conv2D(32, (3, 3), activation='relu'))\n",
    "    model.add(keras.layers.MaxPooling2D((3, 3), strides=(2, 2), padding='same'))\n",
    "    model.add(keras.layers.BatchNormalization())\n",
    "\n",
    "    # 3rd hidden layer\n",
    "    model.add(keras.layers.Conv2D(32, (2, 2), activation='relu'))\n",
    "    model.add(keras.layers.MaxPooling2D((2, 2), strides=(2, 2), padding='same'))\n",
    "    model.add(keras.layers.BatchNormalization())\n",
    "\n",
    "    # flatten output and feed it into dense layer\n",
    "    model.add(keras.layers.Flatten())\n",
    "    model.add(keras.layers.Dense(64, activation='relu'))\n",
    "    model.add(keras.layers.Dropout(0.3))\n",
    "\n",
    "    # output layer\n",
    "    model.add(keras.layers.Dense(10, activation='softmax'))\n",
    "\n",
    "    return model\n"
   ]
  },
  {
   "cell_type": "code",
   "execution_count": 7,
   "metadata": {},
   "outputs": [],
   "source": [
    "def predict(model, X, y):\n",
    "    \"\"\"Predict a single sample using the trained model\n",
    "    :param model: Trained classifier\n",
    "    :param X: Input data\n",
    "    :param y (int): Target\n",
    "    \"\"\"\n",
    "\n",
    "    # add a dimension to input data for sample - model.predict() expects a 4d array in this case\n",
    "    X = X[np.newaxis, ...] # array shape (1, 130, 13, 1)\n",
    "\n",
    "    # perform prediction\n",
    "    prediction = model.predict(X)\n",
    "\n",
    "    # get index with max value\n",
    "    predicted_index = np.argmax(prediction, axis=1)\n",
    "\n",
    "    print(\"Target: {}, Predicted label: {}\".format(y, predicted_index))\n"
   ]
  },
  {
   "cell_type": "code",
   "execution_count": 8,
   "metadata": {},
   "outputs": [
    {
     "name": "stdout",
     "output_type": "stream",
     "text": [
      "Model: \"sequential\"\n",
      "_________________________________________________________________\n",
      " Layer (type)                Output Shape              Param #   \n",
      "=================================================================\n",
      " conv2d (Conv2D)             (None, 128, 23, 32)       320       \n",
      "                                                                 \n",
      " max_pooling2d (MaxPooling2D  (None, 64, 12, 32)       0         \n",
      " )                                                               \n",
      "                                                                 \n",
      " batch_normalization (BatchN  (None, 64, 12, 32)       128       \n",
      " ormalization)                                                   \n",
      "                                                                 \n",
      " conv2d_1 (Conv2D)           (None, 62, 10, 32)        9248      \n",
      "                                                                 \n",
      " max_pooling2d_1 (MaxPooling  (None, 31, 5, 32)        0         \n",
      " 2D)                                                             \n",
      "                                                                 \n",
      " batch_normalization_1 (Batc  (None, 31, 5, 32)        128       \n",
      " hNormalization)                                                 \n",
      "                                                                 \n",
      " conv2d_2 (Conv2D)           (None, 30, 4, 32)         4128      \n",
      "                                                                 \n",
      " max_pooling2d_2 (MaxPooling  (None, 15, 2, 32)        0         \n",
      " 2D)                                                             \n",
      "                                                                 \n",
      " batch_normalization_2 (Batc  (None, 15, 2, 32)        128       \n",
      " hNormalization)                                                 \n",
      "                                                                 \n",
      " flatten (Flatten)           (None, 960)               0         \n",
      "                                                                 \n",
      " dense (Dense)               (None, 64)                61504     \n",
      "                                                                 \n",
      " dropout (Dropout)           (None, 64)                0         \n",
      "                                                                 \n",
      " dense_1 (Dense)             (None, 10)                650       \n",
      "                                                                 \n",
      "=================================================================\n",
      "Total params: 76,234\n",
      "Trainable params: 76,042\n",
      "Non-trainable params: 192\n",
      "_________________________________________________________________\n",
      "Epoch 1/35\n",
      "375/375 [==============================] - 12s 28ms/step - loss: 2.3194 - accuracy: 0.2268 - val_loss: 1.8246 - val_accuracy: 0.3465\n",
      "Epoch 2/35\n",
      "375/375 [==============================] - 10s 26ms/step - loss: 1.8441 - accuracy: 0.3469 - val_loss: 1.6018 - val_accuracy: 0.4139\n",
      "Epoch 3/35\n",
      "375/375 [==============================] - 9s 25ms/step - loss: 1.6631 - accuracy: 0.4115 - val_loss: 1.4709 - val_accuracy: 0.4693\n",
      "Epoch 4/35\n",
      "375/375 [==============================] - 9s 25ms/step - loss: 1.5371 - accuracy: 0.4442 - val_loss: 1.3589 - val_accuracy: 0.5080\n",
      "Epoch 5/35\n",
      "375/375 [==============================] - 9s 25ms/step - loss: 1.4684 - accuracy: 0.4707 - val_loss: 1.3011 - val_accuracy: 0.5374\n",
      "Epoch 6/35\n",
      "375/375 [==============================] - 9s 25ms/step - loss: 1.3944 - accuracy: 0.5033 - val_loss: 1.2455 - val_accuracy: 0.5587\n",
      "Epoch 7/35\n",
      "375/375 [==============================] - 10s 25ms/step - loss: 1.3322 - accuracy: 0.5238 - val_loss: 1.2326 - val_accuracy: 0.5641\n",
      "Epoch 8/35\n",
      "375/375 [==============================] - 9s 25ms/step - loss: 1.2785 - accuracy: 0.5453 - val_loss: 1.1704 - val_accuracy: 0.5821\n",
      "Epoch 9/35\n",
      "375/375 [==============================] - 9s 25ms/step - loss: 1.2518 - accuracy: 0.5528 - val_loss: 1.1552 - val_accuracy: 0.5741\n",
      "Epoch 10/35\n",
      "375/375 [==============================] - 9s 25ms/step - loss: 1.2051 - accuracy: 0.5699 - val_loss: 1.1230 - val_accuracy: 0.5921\n",
      "Epoch 11/35\n",
      "375/375 [==============================] - 9s 25ms/step - loss: 1.1626 - accuracy: 0.5849 - val_loss: 1.1006 - val_accuracy: 0.6055\n",
      "Epoch 12/35\n",
      "375/375 [==============================] - 9s 25ms/step - loss: 1.1285 - accuracy: 0.6054 - val_loss: 1.0736 - val_accuracy: 0.6048\n",
      "Epoch 13/35\n",
      "375/375 [==============================] - 9s 25ms/step - loss: 1.1160 - accuracy: 0.5997 - val_loss: 1.0611 - val_accuracy: 0.6222\n",
      "Epoch 14/35\n",
      "375/375 [==============================] - 9s 25ms/step - loss: 1.0682 - accuracy: 0.6214 - val_loss: 1.0226 - val_accuracy: 0.6375\n",
      "Epoch 15/35\n",
      "375/375 [==============================] - 9s 25ms/step - loss: 1.0485 - accuracy: 0.6273 - val_loss: 1.0228 - val_accuracy: 0.6282\n",
      "Epoch 16/35\n",
      "375/375 [==============================] - 9s 25ms/step - loss: 1.0207 - accuracy: 0.6366 - val_loss: 1.0078 - val_accuracy: 0.6475\n",
      "Epoch 17/35\n",
      "375/375 [==============================] - 9s 23ms/step - loss: 0.9952 - accuracy: 0.6531 - val_loss: 0.9857 - val_accuracy: 0.6449\n",
      "Epoch 18/35\n",
      "375/375 [==============================] - 9s 25ms/step - loss: 0.9730 - accuracy: 0.6540 - val_loss: 0.9696 - val_accuracy: 0.6549\n",
      "Epoch 19/35\n",
      "375/375 [==============================] - 9s 25ms/step - loss: 0.9517 - accuracy: 0.6627 - val_loss: 0.9482 - val_accuracy: 0.6642\n",
      "Epoch 20/35\n",
      "375/375 [==============================] - 9s 25ms/step - loss: 0.9315 - accuracy: 0.6663 - val_loss: 0.9438 - val_accuracy: 0.6676\n",
      "Epoch 21/35\n",
      "375/375 [==============================] - 10s 26ms/step - loss: 0.8991 - accuracy: 0.6852 - val_loss: 0.9322 - val_accuracy: 0.6816\n",
      "Epoch 22/35\n",
      "375/375 [==============================] - 9s 25ms/step - loss: 0.8892 - accuracy: 0.6890 - val_loss: 0.9175 - val_accuracy: 0.6802\n",
      "Epoch 23/35\n",
      "375/375 [==============================] - 9s 24ms/step - loss: 0.8505 - accuracy: 0.7029 - val_loss: 0.9143 - val_accuracy: 0.6736\n",
      "Epoch 24/35\n",
      "375/375 [==============================] - 9s 25ms/step - loss: 0.8578 - accuracy: 0.6974 - val_loss: 0.8902 - val_accuracy: 0.6842\n",
      "Epoch 25/35\n",
      "375/375 [==============================] - 9s 25ms/step - loss: 0.8279 - accuracy: 0.7039 - val_loss: 0.9012 - val_accuracy: 0.6869\n",
      "Epoch 26/35\n",
      "375/375 [==============================] - 9s 25ms/step - loss: 0.8043 - accuracy: 0.7184 - val_loss: 0.8841 - val_accuracy: 0.6862\n",
      "Epoch 27/35\n",
      "375/375 [==============================] - 9s 25ms/step - loss: 0.7793 - accuracy: 0.7318 - val_loss: 0.8746 - val_accuracy: 0.6896\n",
      "Epoch 28/35\n",
      "375/375 [==============================] - 9s 25ms/step - loss: 0.7689 - accuracy: 0.7354 - val_loss: 0.8768 - val_accuracy: 0.6969\n",
      "Epoch 29/35\n",
      "375/375 [==============================] - 9s 25ms/step - loss: 0.7472 - accuracy: 0.7378 - val_loss: 0.8582 - val_accuracy: 0.6996\n",
      "Epoch 30/35\n",
      "375/375 [==============================] - 9s 25ms/step - loss: 0.7377 - accuracy: 0.7411 - val_loss: 0.8611 - val_accuracy: 0.6963\n",
      "Epoch 31/35\n",
      "375/375 [==============================] - 9s 24ms/step - loss: 0.7266 - accuracy: 0.7416 - val_loss: 0.8491 - val_accuracy: 0.7036\n",
      "Epoch 32/35\n",
      "375/375 [==============================] - 9s 25ms/step - loss: 0.7083 - accuracy: 0.7530 - val_loss: 0.8286 - val_accuracy: 0.7089\n",
      "Epoch 33/35\n",
      "375/375 [==============================] - 9s 25ms/step - loss: 0.6789 - accuracy: 0.7583 - val_loss: 0.8522 - val_accuracy: 0.6996\n",
      "Epoch 34/35\n",
      "375/375 [==============================] - 9s 25ms/step - loss: 0.6748 - accuracy: 0.7687 - val_loss: 0.8520 - val_accuracy: 0.7056\n",
      "Epoch 35/35\n",
      "375/375 [==============================] - 9s 25ms/step - loss: 0.6582 - accuracy: 0.7682 - val_loss: 0.8137 - val_accuracy: 0.7143\n"
     ]
    },
    {
     "data": {
      "image/png": "[encoded data removed]",
      "text/plain": [
       "<Figure size 640x480 with 2 Axes>"
      ]
     },
     "metadata": {},
     "output_type": "display_data"
    },
    {
     "name": "stdout",
     "output_type": "stream",
     "text": [
      "79/79 - 1s - loss: 0.7951 - accuracy: 0.7197 - 867ms/epoch - 11ms/step\n",
      "\n",
      "Test accuracy: 0.7196636199951172\n",
      "1/1 [==============================] - 0s 286ms/step\n",
      "Target: 1, Predicted label: [1]\n"
     ]
    }
   ],
   "source": [
    "if __name__ == \"__main__\":\n",
    "\n",
    "    # get train, validation, test splits\n",
    "    X_train, X_validation, X_test, y_train, y_validation, y_test = prepare_datasets(0.25, 0.2)\n",
    "\n",
    "    # create network\n",
    "    input_shape = (X_train.shape[1], X_train.shape[2], 1)\n",
    "    model = build_model(input_shape)\n",
    "\n",
    "    # compile model\n",
    "    optimiser = keras.optimizers.Adam(learning_rate=0.0001)\n",
    "    model.compile(optimizer=optimiser,\n",
    "                  loss='sparse_categorical_crossentropy',\n",
    "                  metrics=['accuracy'])\n",
    "\n",
    "    model.summary()\n",
    "\n",
    "    # train model\n",
    "    history = model.fit(X_train, y_train, validation_data=(X_validation, y_validation), batch_size=16, epochs=30)\n",
    "\n",
    "    # plot accuracy/error for training and validation\n",
    "    plot_history(history)\n",
    "\n",
    "    # evaluate model on test set\n",
    "    test_loss, test_acc = model.evaluate(X_test, y_test, verbose=2)\n",
    "    print('\\nTest accuracy:', test_acc)\n",
    "\n",
    "    # pick a sample to predict from the test set\n",
    "    X_to_predict = X_test[100]\n",
    "    y_to_predict = y_test[100]\n",
    "\n",
    "    # predict sample\n",
    "    predict(model, X_to_predict, y_to_predict)"
   ]
  },
  {
   "cell_type": "code",
   "execution_count": 10,
   "metadata": {},
   "outputs": [
    {
     "name": "stdout",
     "output_type": "stream",
     "text": [
      "Saved model to disk\n"
     ]
    }
   ],
   "source": [
    "# serialize model to JSON\n",
    "model_json = model.to_json()\n",
    "with open(\"Model/model.json\", \"w\") as json_file:\n",
    "    json_file.write(model_json)\n",
    "# serialize weights to HDF5\n",
    "model.save_weights(\"Model/model.h5\")\n",
    "print(\"Saved model to disk\")"
   ]
  },
  {
   "cell_type": "code",
   "execution_count": 11,
   "metadata": {},
   "outputs": [
    {
     "name": "stdout",
     "output_type": "stream",
     "text": [
      "Loaded model from disk\n"
     ]
    }
   ],
   "source": [
    "from keras.models import model_from_json\n",
    "# load json and create model\n",
    "json_file = open('Model/model.json', 'r')\n",
    "loaded_model_json = json_file.read()\n",
    "json_file.close()\n",
    "loaded_model = model_from_json(loaded_model_json)\n",
    "# load weights into new model\n",
    "loaded_model.load_weights(\"Model/model.h5\")\n",
    "print(\"Loaded model from disk\")"
   ]
  },
  {
   "cell_type": "code",
   "execution_count": 12,
   "metadata": {},
   "outputs": [
    {
     "name": "stdout",
     "output_type": "stream",
     "text": [
      "79/79 - 1s - loss: 0.7951 - accuracy: 0.7197 - 1s/epoch - 16ms/step\n",
      "\n",
      "Test accuracy: 0.7196636199951172\n",
      "1/1 [==============================] - 0s 225ms/step\n",
      "Target: 1, Predicted label: [1]\n"
     ]
    }
   ],
   "source": [
    "# evaluate loaded model on test data\n",
    "loaded_model.compile(optimizer=optimiser,\n",
    "                  loss='sparse_categorical_crossentropy',\n",
    "                  metrics=['accuracy'])\n",
    "test_loss, test_acc = loaded_model.evaluate(X_test, y_test, verbose=2)\n",
    "print('\\nTest accuracy:', test_acc)\n",
    "\n",
    "# pick a sample to predict from the test set\n",
    "X_to_predict = X_test[100]\n",
    "y_to_predict = y_test[100]\n",
    "\n",
    "# predict sample\n",
    "predict(loaded_model, X_to_predict, y_to_predict)"
   ]
  }
 ],
 "metadata": {
  "kernelspec": {
   "display_name": "dsenv",
   "language": "python",
   "name": "python3"
  },
  "language_info": {
   "codemirror_mode": {
    "name": "ipython",
    "version": 3
   },
   "file_extension": ".py",
   "mimetype": "text/x-python",
   "name": "python",
   "nbconvert_exporter": "python",
   "pygments_lexer": "ipython3",
   "version": "3.10.8"
  },
  "orig_nbformat": 4,
  "vscode": {
   "interpreter": {
    "hash": "d24c4e56341a1370154d608d6118273e6b20dc1aaa192d003ad035abe359961d"
   }
  }
 },
 "nbformat": 4,
 "nbformat_minor": 2
}
